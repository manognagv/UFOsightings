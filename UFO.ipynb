{
  "nbformat": 4,
  "nbformat_minor": 0,
  "metadata": {
    "colab": {
      "name": "UFO.ipynb",
      "provenance": [],
      "collapsed_sections": []
    },
    "kernelspec": {
      "display_name": "Python 3",
      "name": "python3"
    },
    "language_info": {
      "name": "python"
    }
  },
  "cells": [
    {
      "cell_type": "code",
      "metadata": {
        "id": "KwCgetQCLkNp"
      },
      "source": [
        "import numpy as np\n",
        "import pandas as pd\n",
        "import matplotlib.pyplot as plt\n",
        "import seaborn as sns\n",
        "import warnings\n",
        "warnings.filterwarnings(\"ignore\")"
      ],
      "execution_count": null,
      "outputs": []
    },
    {
      "cell_type": "code",
      "metadata": {
        "colab": {
          "base_uri": "https://localhost:8080/"
        },
        "id": "qA2jxBVy0c26",
        "outputId": "33a480e0-c321-4786-c549-4ab7141e503e"
      },
      "source": [
        "from google.colab import drive\n",
        "drive.mount('/content/drive')"
      ],
      "execution_count": null,
      "outputs": [
        {
          "output_type": "stream",
          "name": "stdout",
          "text": [
            "Mounted at /content/drive\n"
          ]
        }
      ]
    },
    {
      "cell_type": "code",
      "metadata": {
        "id": "t6HKVPC90rQp"
      },
      "source": [
        "df=pd.read_csv(\"/content/drive/My Drive/UFO_Sitings.csv\",low_memory=False)"
      ],
      "execution_count": null,
      "outputs": []
    },
    {
      "cell_type": "code",
      "metadata": {
        "id": "ndbhFdwjJhe_"
      },
      "source": [
        "df=pd.read_csv(\"UFO_Sitings.csv\",low_memory=False)"
      ],
      "execution_count": null,
      "outputs": []
    },
    {
      "cell_type": "code",
      "metadata": {
        "colab": {
          "base_uri": "https://localhost:8080/",
          "height": 310
        },
        "id": "aQzYYChKFCad",
        "outputId": "1d16b108-2ce5-482b-c0f8-564236d43c57"
      },
      "source": [
        "df.head(5)"
      ],
      "execution_count": null,
      "outputs": [
        {
          "data": {
            "text/html": [
              "<div>\n",
              "<style scoped>\n",
              "    .dataframe tbody tr th:only-of-type {\n",
              "        vertical-align: middle;\n",
              "    }\n",
              "\n",
              "    .dataframe tbody tr th {\n",
              "        vertical-align: top;\n",
              "    }\n",
              "\n",
              "    .dataframe thead th {\n",
              "        text-align: right;\n",
              "    }\n",
              "</style>\n",
              "<table border=\"1\" class=\"dataframe\">\n",
              "  <thead>\n",
              "    <tr style=\"text-align: right;\">\n",
              "      <th></th>\n",
              "      <th>datetime</th>\n",
              "      <th>city</th>\n",
              "      <th>state</th>\n",
              "      <th>country</th>\n",
              "      <th>shape</th>\n",
              "      <th>duration (seconds)</th>\n",
              "      <th>duration (hours/min)</th>\n",
              "      <th>comments</th>\n",
              "      <th>date posted</th>\n",
              "      <th>latitude</th>\n",
              "      <th>longitude</th>\n",
              "    </tr>\n",
              "  </thead>\n",
              "  <tbody>\n",
              "    <tr>\n",
              "      <th>0</th>\n",
              "      <td>10/10/1949 20:30</td>\n",
              "      <td>san marcos</td>\n",
              "      <td>tx</td>\n",
              "      <td>us</td>\n",
              "      <td>cylinder</td>\n",
              "      <td>2700</td>\n",
              "      <td>45 minutes</td>\n",
              "      <td>This event took place in early fall around 194...</td>\n",
              "      <td>4/27/2004</td>\n",
              "      <td>29.8830556</td>\n",
              "      <td>-97.941111</td>\n",
              "    </tr>\n",
              "    <tr>\n",
              "      <th>1</th>\n",
              "      <td>10/10/1949 21:00</td>\n",
              "      <td>lackland afb</td>\n",
              "      <td>tx</td>\n",
              "      <td>NaN</td>\n",
              "      <td>light</td>\n",
              "      <td>7200</td>\n",
              "      <td>1-2 hrs</td>\n",
              "      <td>1949 Lackland AFB&amp;#44 TX.  Lights racing acros...</td>\n",
              "      <td>12/16/2005</td>\n",
              "      <td>29.38421</td>\n",
              "      <td>-98.581082</td>\n",
              "    </tr>\n",
              "    <tr>\n",
              "      <th>2</th>\n",
              "      <td>10/10/1955 17:00</td>\n",
              "      <td>chester (uk/england)</td>\n",
              "      <td>NaN</td>\n",
              "      <td>gb</td>\n",
              "      <td>circle</td>\n",
              "      <td>20</td>\n",
              "      <td>20 seconds</td>\n",
              "      <td>Green/Orange circular disc over Chester&amp;#44 En...</td>\n",
              "      <td>1/21/2008</td>\n",
              "      <td>53.2</td>\n",
              "      <td>-2.916667</td>\n",
              "    </tr>\n",
              "    <tr>\n",
              "      <th>3</th>\n",
              "      <td>10/10/1956 21:00</td>\n",
              "      <td>edna</td>\n",
              "      <td>tx</td>\n",
              "      <td>us</td>\n",
              "      <td>circle</td>\n",
              "      <td>20</td>\n",
              "      <td>1/2 hour</td>\n",
              "      <td>My older brother and twin sister were leaving ...</td>\n",
              "      <td>1/17/2004</td>\n",
              "      <td>28.9783333</td>\n",
              "      <td>-96.645833</td>\n",
              "    </tr>\n",
              "    <tr>\n",
              "      <th>4</th>\n",
              "      <td>10/10/1960 20:00</td>\n",
              "      <td>kaneohe</td>\n",
              "      <td>hi</td>\n",
              "      <td>us</td>\n",
              "      <td>light</td>\n",
              "      <td>900</td>\n",
              "      <td>15 minutes</td>\n",
              "      <td>AS a Marine 1st Lt. flying an FJ4B fighter/att...</td>\n",
              "      <td>1/22/2004</td>\n",
              "      <td>21.4180556</td>\n",
              "      <td>-157.803611</td>\n",
              "    </tr>\n",
              "  </tbody>\n",
              "</table>\n",
              "</div>"
            ],
            "text/plain": [
              "           datetime                  city  ...    latitude  longitude \n",
              "0  10/10/1949 20:30            san marcos  ...  29.8830556  -97.941111\n",
              "1  10/10/1949 21:00          lackland afb  ...    29.38421  -98.581082\n",
              "2  10/10/1955 17:00  chester (uk/england)  ...        53.2   -2.916667\n",
              "3  10/10/1956 21:00                  edna  ...  28.9783333  -96.645833\n",
              "4  10/10/1960 20:00               kaneohe  ...  21.4180556 -157.803611\n",
              "\n",
              "[5 rows x 11 columns]"
            ]
          },
          "execution_count": 5,
          "metadata": {},
          "output_type": "execute_result"
        }
      ]
    },
    {
      "cell_type": "code",
      "metadata": {
        "colab": {
          "base_uri": "https://localhost:8080/"
        },
        "id": "oyPElHOjFN5B",
        "outputId": "e38b6493-f8a0-4d26-d97a-453bc721d25c"
      },
      "source": [
        "df.describe"
      ],
      "execution_count": null,
      "outputs": [
        {
          "data": {
            "text/plain": [
              "<bound method NDFrame.describe of                datetime                  city  ...    latitude  longitude \n",
              "0      10/10/1949 20:30            san marcos  ...  29.8830556  -97.941111\n",
              "1      10/10/1949 21:00          lackland afb  ...    29.38421  -98.581082\n",
              "2      10/10/1955 17:00  chester (uk/england)  ...        53.2   -2.916667\n",
              "3      10/10/1956 21:00                  edna  ...  28.9783333  -96.645833\n",
              "4      10/10/1960 20:00               kaneohe  ...  21.4180556 -157.803611\n",
              "...                 ...                   ...  ...         ...         ...\n",
              "80327    9/9/2013 21:15             nashville  ...  36.1658333  -86.784444\n",
              "80328    9/9/2013 22:00                 boise  ...  43.6136111 -116.202500\n",
              "80329    9/9/2013 22:00                  napa  ...  38.2972222 -122.284444\n",
              "80330    9/9/2013 22:20                vienna  ...  38.9011111  -77.265556\n",
              "80331    9/9/2013 23:00                edmond  ...  35.6527778  -97.477778\n",
              "\n",
              "[80332 rows x 11 columns]>"
            ]
          },
          "execution_count": 6,
          "metadata": {},
          "output_type": "execute_result"
        }
      ]
    },
    {
      "cell_type": "code",
      "metadata": {
        "colab": {
          "base_uri": "https://localhost:8080/"
        },
        "id": "aPE-gUOUF9RE",
        "outputId": "c0445dbc-c3a1-424b-b6fd-e98f70ef1d34"
      },
      "source": [
        "df.shape"
      ],
      "execution_count": null,
      "outputs": [
        {
          "data": {
            "text/plain": [
              "(80332, 11)"
            ]
          },
          "execution_count": 7,
          "metadata": {},
          "output_type": "execute_result"
        }
      ]
    },
    {
      "cell_type": "code",
      "metadata": {
        "colab": {
          "base_uri": "https://localhost:8080/"
        },
        "id": "naHuGdN-GOMu",
        "outputId": "8c46bbf2-70fd-4569-8b2a-6e52b7ce503e"
      },
      "source": [
        "df.info()"
      ],
      "execution_count": null,
      "outputs": [
        {
          "name": "stdout",
          "output_type": "stream",
          "text": [
            "<class 'pandas.core.frame.DataFrame'>\n",
            "RangeIndex: 80332 entries, 0 to 80331\n",
            "Data columns (total 11 columns):\n",
            " #   Column                Non-Null Count  Dtype  \n",
            "---  ------                --------------  -----  \n",
            " 0   datetime              80332 non-null  object \n",
            " 1   city                  80332 non-null  object \n",
            " 2   state                 74535 non-null  object \n",
            " 3   country               70662 non-null  object \n",
            " 4   shape                 78400 non-null  object \n",
            " 5   duration (seconds)    80332 non-null  object \n",
            " 6   duration (hours/min)  80332 non-null  object \n",
            " 7   comments              80317 non-null  object \n",
            " 8   date posted           80332 non-null  object \n",
            " 9   latitude              80332 non-null  object \n",
            " 10  longitude             80332 non-null  float64\n",
            "dtypes: float64(1), object(10)\n",
            "memory usage: 6.7+ MB\n"
          ]
        }
      ]
    },
    {
      "cell_type": "code",
      "metadata": {
        "colab": {
          "base_uri": "https://localhost:8080/"
        },
        "id": "Z_6_D5fmLn8M",
        "outputId": "bb816516-df74-4ba1-8e2e-6168f32d0803"
      },
      "source": [
        "null_vals = df.isnull().sum()\n",
        "nul_per = (null_vals / len(df))*100\n",
        "print(' Null Values (% of columns):')\n",
        "print(round(nul_per.sort_values(ascending=False),2))"
      ],
      "execution_count": null,
      "outputs": [
        {
          "name": "stdout",
          "output_type": "stream",
          "text": [
            " Null Values (% of columns):\n",
            "country                 12.04\n",
            "state                    7.22\n",
            "shape                    2.41\n",
            "comments                 0.02\n",
            "longitude                0.00\n",
            "latitude                 0.00\n",
            "date posted              0.00\n",
            "duration (hours/min)     0.00\n",
            "duration (seconds)       0.00\n",
            "city                     0.00\n",
            "datetime                 0.00\n",
            "dtype: float64\n"
          ]
        }
      ]
    },
    {
      "cell_type": "code",
      "metadata": {
        "id": "3eNLr_FdNBT5"
      },
      "source": [
        "\n",
        "ufo_df=pd.read_csv(\"/content/drive/My Drive/UFO_Sitings.csv\",low_memory=False,na_values = ['UNKNOWN','UNK'],na_filter = True, skip_blank_lines = True) "
      ],
      "execution_count": null,
      "outputs": []
    },
    {
      "cell_type": "code",
      "metadata": {
        "id": "LeEUzB7UJun0"
      },
      "source": [
        "df=pd.read_csv(\"UFO_Sitings.csv\",low_memory=False,na_values = ['UNKNOWN','UNK'],na_filter = True, skip_blank_lines = True)"
      ],
      "execution_count": null,
      "outputs": []
    },
    {
      "cell_type": "code",
      "metadata": {
        "id": "oVOCFM6uU_gn"
      },
      "source": [
        "ufo_df.drop('duration (hours/min)', axis=1, inplace=True)"
      ],
      "execution_count": null,
      "outputs": []
    },
    {
      "cell_type": "code",
      "metadata": {
        "id": "TwKuPpdcVeUT"
      },
      "source": [
        "ufo_df = ufo_df.dropna(thresh=8)\n",
        "ufo_df = ufo_df.reset_index(drop=True)\n"
      ],
      "execution_count": null,
      "outputs": []
    },
    {
      "cell_type": "code",
      "metadata": {
        "id": "2Nj2foMnVhcY"
      },
      "source": [
        "ufo_df.rename(columns={'country':'Country','state':'State','shape':'Shape_of_UFO','comments':'Description_of_UFO','longitude ':'Longitude','latitude':'Latitude','duration (seconds)':'Duration(in secs)', 'city':'City', 'datetime':'DateTime','date posted':'DatePosted'}, inplace=True)"
      ],
      "execution_count": null,
      "outputs": []
    },
    {
      "cell_type": "code",
      "metadata": {
        "colab": {
          "base_uri": "https://localhost:8080/",
          "height": 310
        },
        "id": "Whup8AWBX44L",
        "outputId": "b0771644-7874-4389-d6ed-01115e932511"
      },
      "source": [
        "ufo_df.head(5)"
      ],
      "execution_count": null,
      "outputs": [
        {
          "output_type": "execute_result",
          "data": {
            "text/html": [
              "<div>\n",
              "<style scoped>\n",
              "    .dataframe tbody tr th:only-of-type {\n",
              "        vertical-align: middle;\n",
              "    }\n",
              "\n",
              "    .dataframe tbody tr th {\n",
              "        vertical-align: top;\n",
              "    }\n",
              "\n",
              "    .dataframe thead th {\n",
              "        text-align: right;\n",
              "    }\n",
              "</style>\n",
              "<table border=\"1\" class=\"dataframe\">\n",
              "  <thead>\n",
              "    <tr style=\"text-align: right;\">\n",
              "      <th></th>\n",
              "      <th>DateTime</th>\n",
              "      <th>City</th>\n",
              "      <th>State</th>\n",
              "      <th>Country</th>\n",
              "      <th>Shape_of_UFO</th>\n",
              "      <th>Duration(in secs)</th>\n",
              "      <th>Description_of_UFO</th>\n",
              "      <th>DatePosted</th>\n",
              "      <th>Latitude</th>\n",
              "      <th>Longitude</th>\n",
              "    </tr>\n",
              "  </thead>\n",
              "  <tbody>\n",
              "    <tr>\n",
              "      <th>0</th>\n",
              "      <td>10/10/1949 20:30</td>\n",
              "      <td>san marcos</td>\n",
              "      <td>tx</td>\n",
              "      <td>us</td>\n",
              "      <td>cylinder</td>\n",
              "      <td>2700</td>\n",
              "      <td>This event took place in early fall around 194...</td>\n",
              "      <td>4/27/2004</td>\n",
              "      <td>29.8830556</td>\n",
              "      <td>-97.941111</td>\n",
              "    </tr>\n",
              "    <tr>\n",
              "      <th>1</th>\n",
              "      <td>10/10/1949 21:00</td>\n",
              "      <td>lackland afb</td>\n",
              "      <td>tx</td>\n",
              "      <td>NaN</td>\n",
              "      <td>light</td>\n",
              "      <td>7200</td>\n",
              "      <td>1949 Lackland AFB&amp;#44 TX.  Lights racing acros...</td>\n",
              "      <td>12/16/2005</td>\n",
              "      <td>29.38421</td>\n",
              "      <td>-98.581082</td>\n",
              "    </tr>\n",
              "    <tr>\n",
              "      <th>2</th>\n",
              "      <td>10/10/1955 17:00</td>\n",
              "      <td>chester (uk/england)</td>\n",
              "      <td>NaN</td>\n",
              "      <td>gb</td>\n",
              "      <td>circle</td>\n",
              "      <td>20</td>\n",
              "      <td>Green/Orange circular disc over Chester&amp;#44 En...</td>\n",
              "      <td>1/21/2008</td>\n",
              "      <td>53.2</td>\n",
              "      <td>-2.916667</td>\n",
              "    </tr>\n",
              "    <tr>\n",
              "      <th>3</th>\n",
              "      <td>10/10/1956 21:00</td>\n",
              "      <td>edna</td>\n",
              "      <td>tx</td>\n",
              "      <td>us</td>\n",
              "      <td>circle</td>\n",
              "      <td>20</td>\n",
              "      <td>My older brother and twin sister were leaving ...</td>\n",
              "      <td>1/17/2004</td>\n",
              "      <td>28.9783333</td>\n",
              "      <td>-96.645833</td>\n",
              "    </tr>\n",
              "    <tr>\n",
              "      <th>4</th>\n",
              "      <td>10/10/1960 20:00</td>\n",
              "      <td>kaneohe</td>\n",
              "      <td>hi</td>\n",
              "      <td>us</td>\n",
              "      <td>light</td>\n",
              "      <td>900</td>\n",
              "      <td>AS a Marine 1st Lt. flying an FJ4B fighter/att...</td>\n",
              "      <td>1/22/2004</td>\n",
              "      <td>21.4180556</td>\n",
              "      <td>-157.803611</td>\n",
              "    </tr>\n",
              "  </tbody>\n",
              "</table>\n",
              "</div>"
            ],
            "text/plain": [
              "           DateTime                  City  ...    Latitude   Longitude\n",
              "0  10/10/1949 20:30            san marcos  ...  29.8830556  -97.941111\n",
              "1  10/10/1949 21:00          lackland afb  ...    29.38421  -98.581082\n",
              "2  10/10/1955 17:00  chester (uk/england)  ...        53.2   -2.916667\n",
              "3  10/10/1956 21:00                  edna  ...  28.9783333  -96.645833\n",
              "4  10/10/1960 20:00               kaneohe  ...  21.4180556 -157.803611\n",
              "\n",
              "[5 rows x 10 columns]"
            ]
          },
          "metadata": {},
          "execution_count": 7
        }
      ]
    },
    {
      "cell_type": "code",
      "metadata": {
        "colab": {
          "base_uri": "https://localhost:8080/"
        },
        "id": "fKmscxCVX7Mc",
        "outputId": "99fe4aa1-a1a7-4131-8402-d188a7f6dc55"
      },
      "source": [
        "ufo_df.shape"
      ],
      "execution_count": null,
      "outputs": [
        {
          "output_type": "execute_result",
          "data": {
            "text/plain": [
              "(80257, 10)"
            ]
          },
          "metadata": {},
          "execution_count": 8
        }
      ]
    },
    {
      "cell_type": "code",
      "metadata": {
        "id": "wWYIEX-4YmBO"
      },
      "source": [
        "ufo_df['DateTime'] = ufo_df.DateTime.str.replace('24:00', '00:00')\n",
        "ufo_df['DateTime'] = pd.to_datetime(ufo_df['DateTime'], format='%m/%d/%Y %H:%M')"
      ],
      "execution_count": null,
      "outputs": []
    },
    {
      "cell_type": "code",
      "metadata": {
        "id": "TM4Wbs3bZm-d"
      },
      "source": [
        "ufo_df['Latitude'] = pd.to_numeric(ufo_df['Latitude'],errors = 'coerce')  \n",
        "ufo_df['Longitude'] = pd.to_numeric(ufo_df['Longitude'], errors='coerce')"
      ],
      "execution_count": null,
      "outputs": []
    },
    {
      "cell_type": "code",
      "metadata": {
        "colab": {
          "base_uri": "https://localhost:8080/",
          "height": 516
        },
        "id": "7UrK-rdMr3Tn",
        "outputId": "a6eb7d99-d5c1-49c9-aefa-5d1aca01aea7"
      },
      "source": [
        "ufo_yr = ufo_df['DateTime'].dt.year \n",
        "years_data = ufo_yr.value_counts()\n",
        "years_index = years_data.index  \n",
        "years_values = years_data[1:]\n",
        "\n",
        "## Create Bar Plot ##\n",
        "plt.figure(figsize=(15,8))\n",
        "plt.xticks(rotation = 60)\n",
        "plt.title('UFO Sightings by Year')\n",
        "\n",
        "years_plot = sns.barplot(x=years_index[:60],y=years_values[:60], palette = \"GnBu\")"
      ],
      "execution_count": null,
      "outputs": [
        {
          "output_type": "display_data",
          "data": {
            "image/png": "[encoded data removed]",
            "text/plain": [
              "<Figure size 1080x576 with 1 Axes>"
            ]
          },
          "metadata": {
            "needs_background": "light"
          }
        }
      ]
    },
    {
      "cell_type": "code",
      "metadata": {
        "colab": {
          "base_uri": "https://localhost:8080/",
          "height": 585
        },
        "id": "uQOdRwCBnINn",
        "outputId": "cdecba2a-f4b5-4339-f813-7a70bca002a3"
      },
      "source": [
        "country_sightings = ufo_df.Country.value_counts()  # num ufo sightings per country \n",
        "\n",
        "explode = (0, 0, 0, 0., 0.05)\n",
        "colors = ['lightblue','gold','yellowgreen','lightcoral','orange']\n",
        "country_sightings.plot(kind = 'pie', fontsize = 0, title='UFO Sightings by Country', colors=colors,\n",
        "                       autopct='%1.1f%%',shadow=True, explode=explode,figsize=(8,8))\n",
        "plt.legend(labels=['United States','Canada','United Kingdom','Australia','Germany'], loc=\"best\")\n",
        "plt.tight_layout()"
      ],
      "execution_count": null,
      "outputs": [
        {
          "output_type": "display_data",
          "data": {
            "image/png": "[encoded data removed]",
            "text/plain": [
              "<Figure size 576x576 with 1 Axes>"
            ]
          },
          "metadata": {}
        }
      ]
    },
    {
      "cell_type": "code",
      "metadata": {
        "id": "mYTV9nOknVv8"
      },
      "source": [
        ""
      ],
      "execution_count": null,
      "outputs": []
    },
    {
      "cell_type": "code",
      "metadata": {
        "id": "sBGB5NLcMBZG"
      },
      "source": [
        ""
      ],
      "execution_count": null,
      "outputs": []
    }
  ]
}